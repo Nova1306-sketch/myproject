{
 "cells": [
  {
   "cell_type": "code",
   "execution_count": null,
   "id": "d68e96ba-0d8e-4e0d-8bdf-a879bc310a23",
   "metadata": {},
   "outputs": [
    {
     "name": "stdout",
     "output_type": "stream",
     "text": [
      "Старая база удалена\n"
     ]
    },
    {
     "name": "stderr",
     "output_type": "stream",
     "text": [
      "Exception in Tkinter callback\n",
      "Traceback (most recent call last):\n",
      "  File \"C:\\Users\\User\\anaconda3\\Lib\\tkinter\\__init__.py\", line 2068, in __call__\n",
      "    return self.func(*args)\n",
      "           ~~~~~~~~~^^^^^^^\n",
      "  File \"C:\\Users\\User\\gui.py\", line 52, in add_client_gui\n",
      "    c = Client(name, email, phone, address)\n",
      "  File \"C:\\Users\\User\\models.py\", line 89, in __init__\n",
      "    raise ValueError(f\"Неверный email: {email}\")\n",
      "ValueError: Неверный email: artv1vlk.coamvm\n",
      "Exception in Tkinter callback\n",
      "Traceback (most recent call last):\n",
      "  File \"C:\\Users\\User\\anaconda3\\Lib\\tkinter\\__init__.py\", line 2068, in __call__\n",
      "    return self.func(*args)\n",
      "           ~~~~~~~~~^^^^^^^\n",
      "  File \"C:\\Users\\User\\gui.py\", line 52, in add_client_gui\n",
      "    c = Client(name, email, phone, address)\n",
      "  File \"C:\\Users\\User\\models.py\", line 91, in __init__\n",
      "    raise ValueError(f\"Неверный телефон: {phone}\")\n",
      "ValueError: Неверный телефон: +7959vqj12388\n"
     ]
    }
   ],
   "source": [
    "from gui import start_gui\n",
    "\n",
    "def main():\n",
    "    start_gui()\n",
    "\n",
    "if __name__ == \"__main__\":\n",
    "    main()\n"
   ]
  },
  {
   "cell_type": "code",
   "execution_count": null,
   "id": "283fc387-50c9-4684-ad08-f5a75f59e8fb",
   "metadata": {},
   "outputs": [],
   "source": []
  }
 ],
 "metadata": {
  "kernelspec": {
   "display_name": "Python [conda env:base] *",
   "language": "python",
   "name": "conda-base-py"
  },
  "language_info": {
   "codemirror_mode": {
    "name": "ipython",
    "version": 3
   },
   "file_extension": ".py",
   "mimetype": "text/x-python",
   "name": "python",
   "nbconvert_exporter": "python",
   "pygments_lexer": "ipython3",
   "version": "3.13.5"
  }
 },
 "nbformat": 4,
 "nbformat_minor": 5
}
