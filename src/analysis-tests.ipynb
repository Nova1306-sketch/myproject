{
 "cells": [
  {
   "cell_type": "code",
   "execution_count": 1,
   "id": "7bf0bc00-99c4-4e1e-931e-444a9d13c409",
   "metadata": {},
   "outputs": [
    {
     "name": "stdout",
     "output_type": "stream",
     "text": [
      "Старая база удалена\n"
     ]
    },
    {
     "name": "stderr",
     "output_type": "stream",
     "text": [
      "test_top_clients_by_orders (__main__.TestAnalysis.test_top_clients_by_orders) ... ok\n",
      "test_top_products (__main__.TestAnalysis.test_top_products) ... ok\n",
      "\n",
      "----------------------------------------------------------------------\n",
      "Ran 2 tests in 0.002s\n",
      "\n",
      "OK\n"
     ]
    },
    {
     "name": "stdout",
     "output_type": "stream",
     "text": [
      "Топ 5 клиентов по числу заказов:\n",
      "1. Иван — 2 заказов\n",
      "2. Олег — 1 заказов\n",
      "Топ 5 товаров по количеству заказов:\n",
      "1. Товар1 — 2 раз\n",
      "2. Товар2 — 1 раз\n"
     ]
    }
   ],
   "source": [
    "import unittest\n",
    "from unittest.mock import patch\n",
    "import analysis\n",
    "\n",
    "class TestAnalysis(unittest.TestCase):\n",
    "\n",
    "    @patch(\"analysis.get_orders\")\n",
    "    def test_top_clients_by_orders(self, mock_get_orders):\n",
    "        # Подменяем заказы: Иван - 2 заказа, Олег - 1 заказ\n",
    "        mock_get_orders.return_value = [\n",
    "            (1, \"Иван\", \"2025-01-01 12:00:00\", \"Товар1:100\"),\n",
    "            (2, \"Иван\", \"2025-01-02 13:00:00\", \"Товар2:200\"),\n",
    "            (3, \"Олег\", \"2025-01-03 14:00:00\", \"Товар3:300\"),\n",
    "        ]\n",
    "        result = analysis.top_clients_by_orders()\n",
    "        assert result[0][0] == \"Иван\"\n",
    "        assert result[0][1] == 2\n",
    "        assert result[1][0] == \"Олег\"\n",
    "        assert result[1][1] == 1\n",
    "\n",
    "    @patch(\"analysis.get_orders\")\n",
    "    def test_top_products(self, mock_get_orders):\n",
    "        # Подменяем заказы: Товар1 встречается 2 раза, Товар2 1 раз\n",
    "        mock_get_orders.return_value = [\n",
    "            (1, \"Иван\", \"2025-01-01 12:00:00\", \"Товар1:100, Товар2:200\"),\n",
    "            (2, \"Олег\", \"2025-01-02 13:00:00\", \"Товар1:150\"),\n",
    "        ]\n",
    "        result = analysis.top_products()\n",
    "        assert result[0][0] == \"Товар1\"\n",
    "        assert result[0][1] == 2\n",
    "        assert result[1][0] == \"Товар2\"\n",
    "        assert result[1][1] == 1\n",
    "\n",
    "\n",
    "# Запуск прямо в Python\n",
    "if __name__ == \"__main__\":\n",
    "    suite = unittest.TestLoader().loadTestsFromTestCase(TestAnalysis)\n",
    "    unittest.TextTestRunner(verbosity=2).run(suite)\n"
   ]
  },
  {
   "cell_type": "code",
   "execution_count": null,
   "id": "7a6739bf-6a23-444e-8b05-36851869524f",
   "metadata": {},
   "outputs": [],
   "source": []
  }
 ],
 "metadata": {
  "kernelspec": {
   "display_name": "Python [conda env:base] *",
   "language": "python",
   "name": "conda-base-py"
  },
  "language_info": {
   "codemirror_mode": {
    "name": "ipython",
    "version": 3
   },
   "file_extension": ".py",
   "mimetype": "text/x-python",
   "name": "python",
   "nbconvert_exporter": "python",
   "pygments_lexer": "ipython3",
   "version": "3.13.5"
  }
 },
 "nbformat": 4,
 "nbformat_minor": 5
}
