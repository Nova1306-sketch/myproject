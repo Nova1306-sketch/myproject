{
 "cells": [
  {
   "cell_type": "code",
   "execution_count": 1,
   "id": "05bc9823-96fe-4771-9b80-c21ba34180cc",
   "metadata": {},
   "outputs": [
    {
     "name": "stderr",
     "output_type": "stream",
     "text": [
      "....\n",
      "----------------------------------------------------------------------\n",
      "Ran 4 tests in 0.004s\n",
      "\n",
      "OK\n"
     ]
    }
   ],
   "source": [
    "import unittest\n",
    "from models import Person, Client, Product, Order\n",
    "from datetime import datetime\n",
    "\n",
    "class TestModels(unittest.TestCase):\n",
    "    def test_email_validation(self):\n",
    "        p = Person(\"Иван\", \"ivan@mail.com\", \"+79990000000\")\n",
    "        self.assertTrue(p.is_valid_email())\n",
    "        p.email = \"wrong-email\"\n",
    "        self.assertFalse(p.is_valid_email())\n",
    "\n",
    "    def test_phone_validation(self):\n",
    "        p = Person(\"Иван\", \"ivan@mail.com\", \"+79990000000\")\n",
    "        self.assertTrue(p.is_valid_phone())\n",
    "        p.phone = \"12345\"\n",
    "        self.assertFalse(p.is_valid_phone())\n",
    "\n",
    "    def test_add_order_and_total(self):\n",
    "        c = Client(\"Анна\", \"anna@mail.com\", \"+79991112233\", \"Москва\")\n",
    "        prod1 = Product(\"Ноутбук\", 50000, \"Электроника\")\n",
    "        prod2 = Product(\"Мышь\", 1500, \"Электроника\")\n",
    "        order = Order(c, [prod1, prod2])\n",
    "        self.assertEqual(len(c.orders), 1)\n",
    "        self.assertAlmostEqual(c.total_spent(), 51500)\n",
    "\n",
    "    def test_order_total_price(self):\n",
    "        c = Client(\"Анна\", \"anna@mail.com\", \"+79991112233\", \"Москва\")\n",
    "        prod1 = Product(\"Телефон\", 20000, \"Электроника\")\n",
    "        order = Order(c, [prod1])\n",
    "        self.assertEqual(order.total_price, 20000)\n",
    "\n",
    "if __name__ == \"__main__\":\n",
    "    unittest.main(argv=[''], exit=False)"
   ]
  },
  {
   "cell_type": "code",
   "execution_count": null,
   "id": "68535876-c998-405e-8981-05eff5661898",
   "metadata": {},
   "outputs": [],
   "source": []
  }
 ],
 "metadata": {
  "kernelspec": {
   "display_name": "Python [conda env:base] *",
   "language": "python",
   "name": "conda-base-py"
  },
  "language_info": {
   "codemirror_mode": {
    "name": "ipython",
    "version": 3
   },
   "file_extension": ".py",
   "mimetype": "text/x-python",
   "name": "python",
   "nbconvert_exporter": "python",
   "pygments_lexer": "ipython3",
   "version": "3.13.5"
  }
 },
 "nbformat": 4,
 "nbformat_minor": 5
}
